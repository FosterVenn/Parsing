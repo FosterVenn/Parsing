{
 "cells": [
  {
   "cell_type": "code",
   "execution_count": 1,
   "metadata": {},
   "outputs": [],
   "source": [
    "import pandas as pd\n",
    "import numpy as np\n",
    "import datetime as dt"
   ]
  },
  {
   "cell_type": "code",
   "execution_count": 2,
   "metadata": {},
   "outputs": [],
   "source": [
    "fname = 'Galapagos.csv'"
   ]
  },
  {
   "cell_type": "code",
   "execution_count": 3,
   "metadata": {},
   "outputs": [
    {
     "name": "stderr",
     "output_type": "stream",
     "text": [
      "/home/fostev1/anaconda3/lib/python3.7/site-packages/IPython/core/interactiveshell.py:3020: DtypeWarning: Columns (18) have mixed types. Specify dtype option on import or set low_memory=False.\n",
      "  interactivity=interactivity, compiler=compiler, result=result)\n"
     ]
    }
   ],
   "source": [
    "df = pd.read_csv(fname)"
   ]
  },
  {
   "cell_type": "code",
   "execution_count": 4,
   "metadata": {},
   "outputs": [],
   "source": [
    "df['timestamp']=pd.to_datetime(df['timestamp'])"
   ]
  },
  {
   "cell_type": "code",
   "execution_count": 5,
   "metadata": {},
   "outputs": [],
   "source": [
    "dfRef = pd.read_csv('Galapagos Tortoise Movement Ecology Programme_2009-2018-reference-data.csv')"
   ]
  },
  {
   "cell_type": "code",
   "execution_count": 6,
   "metadata": {
    "scrolled": true
   },
   "outputs": [
    {
     "data": {
      "text/plain": [
       "Index(['tag-id', 'animal-id', 'animal-taxon', 'deploy-on-date',\n",
       "       'deploy-off-date', 'animal-comments', 'animal-exact-date-of-birth',\n",
       "       'animal-latest-date-born', 'animal-life-stage', 'animal-sex',\n",
       "       'animal-taxon-detail', 'attachment-type', 'deploy-on-person',\n",
       "       'deployment-comments', 'deployment-end-comments', 'deployment-end-type',\n",
       "       'deployment-id', 'duty-cycle', 'manipulation-type', 'study-site',\n",
       "       'tag-manufacturer-name', 'tag-model', 'tag-readout-method'],\n",
       "      dtype='object')"
      ]
     },
     "execution_count": 6,
     "metadata": {},
     "output_type": "execute_result"
    }
   ],
   "source": [
    "dfRef.columns"
   ]
  },
  {
   "cell_type": "code",
   "execution_count": 7,
   "metadata": {},
   "outputs": [],
   "source": [
    "Study_Site = dfRef['study-site'].unique()"
   ]
  },
  {
   "cell_type": "code",
   "execution_count": 8,
   "metadata": {},
   "outputs": [
    {
     "data": {
      "text/plain": [
       "array(['Isla Santa Cruz east (Cerro Fatal)',\n",
       "       'Isla Santa Cruz west (La Reserva)', 'Isla Isabela (Alcedo)',\n",
       "       'Isla Espanola'], dtype=object)"
      ]
     },
     "execution_count": 8,
     "metadata": {},
     "output_type": "execute_result"
    }
   ],
   "source": [
    "Study_Site\n"
   ]
  },
  {
   "cell_type": "code",
   "execution_count": 9,
   "metadata": {},
   "outputs": [],
   "source": [
    "SantaCruzEastNames = []\n",
    "SantaCruzWestNames = []\n",
    "IsabelaNames = []\n",
    "EspanolaNames = []"
   ]
  },
  {
   "cell_type": "code",
   "execution_count": 10,
   "metadata": {},
   "outputs": [],
   "source": [
    "for index, row in dfRef.iterrows():\n",
    "    if row['study-site']=='Isla Isabela (Alcedo)':\n",
    "        IsabelaNames.append(row['animal-id'])\n",
    "    if row['study-site']=='Isla Santa Cruz east (Cerro Fatal)':\n",
    "        SantaCruzEastNames.append(row['animal-id'])\n",
    "    if row['study-site']=='Isla Santa Cruz west (La Reserva)':\n",
    "        SantaCruzWestNames.append(row['animal-id'])\n",
    "    if row['study-site']=='Isla Espanola':\n",
    "        EspanolaNames.append(row['animal-id'])"
   ]
  },
  {
   "cell_type": "code",
   "execution_count": 11,
   "metadata": {},
   "outputs": [],
   "source": [
    "dfSantaCruzEast = df[df['individual-local-identifier'].isin(SantaCruzEastNames)]\n",
    "dfSantaCruzWest = df[df['individual-local-identifier'].isin(SantaCruzWestNames)]"
   ]
  },
  {
   "cell_type": "code",
   "execution_count": 12,
   "metadata": {},
   "outputs": [],
   "source": [
    "dfIsabela = df[df['individual-local-identifier'].isin(IsabelaNames)]\n",
    "dfEspanola = df[df['individual-local-identifier'].isin(EspanolaNames)]"
   ]
  },
  {
   "cell_type": "code",
   "execution_count": 13,
   "metadata": {},
   "outputs": [
    {
     "data": {
      "text/plain": [
       "(515394, 24)"
      ]
     },
     "execution_count": 13,
     "metadata": {},
     "output_type": "execute_result"
    }
   ],
   "source": [
    "dfSantaCruzEast.shape"
   ]
  },
  {
   "cell_type": "code",
   "execution_count": 14,
   "metadata": {},
   "outputs": [
    {
     "data": {
      "text/plain": [
       "(716852, 24)"
      ]
     },
     "execution_count": 14,
     "metadata": {},
     "output_type": "execute_result"
    }
   ],
   "source": [
    "dfSantaCruzWest.shape"
   ]
  },
  {
   "cell_type": "code",
   "execution_count": 15,
   "metadata": {},
   "outputs": [
    {
     "data": {
      "text/plain": [
       "(396419, 24)"
      ]
     },
     "execution_count": 15,
     "metadata": {},
     "output_type": "execute_result"
    }
   ],
   "source": [
    "dfIsabela.shape"
   ]
  },
  {
   "cell_type": "code",
   "execution_count": 16,
   "metadata": {},
   "outputs": [
    {
     "data": {
      "text/plain": [
       "(212588, 24)"
      ]
     },
     "execution_count": 16,
     "metadata": {},
     "output_type": "execute_result"
    }
   ],
   "source": [
    "dfEspanola.shape"
   ]
  },
  {
   "cell_type": "code",
   "execution_count": 17,
   "metadata": {},
   "outputs": [],
   "source": [
    "df2010 = dfSantaCruzEast[dfSantaCruzEast['timestamp'].dt.year == 2010]\n",
    "df2011 = dfSantaCruzEast[dfSantaCruzEast['timestamp'].dt.year == 2011]\n",
    "df2012 = dfSantaCruzEast[dfSantaCruzEast['timestamp'].dt.year == 2012]\n",
    "df2013 = dfSantaCruzEast[dfSantaCruzEast['timestamp'].dt.year == 2013]\n",
    "df2014 = dfSantaCruzEast[dfSantaCruzEast['timestamp'].dt.year == 2014]\n",
    "df2015 = dfSantaCruzEast[dfSantaCruzEast['timestamp'].dt.year == 2015]\n",
    "df2016 = dfSantaCruzEast[dfSantaCruzEast['timestamp'].dt.year == 2016]\n",
    "df2017 = dfSantaCruzEast[dfSantaCruzEast['timestamp'].dt.year == 2017]\n",
    "df2018 = dfSantaCruzEast[dfSantaCruzEast['timestamp'].dt.year == 2018]"
   ]
  },
  {
   "cell_type": "code",
   "execution_count": 18,
   "metadata": {},
   "outputs": [],
   "source": [
    "df2010.to_csv('Santa Cruz East Galapagos 2010.csv', index = False)\n",
    "df2011.to_csv('Santa Cruz East Galapagos 2011.csv', index = False)\n",
    "df2012.to_csv('Santa Cruz East Galapagos 2012.csv', index = False)\n",
    "df2013.to_csv('Santa Cruz East Galapagos 2013.csv', index = False)\n",
    "df2014.to_csv('Santa Cruz East Galapagos 2014.csv', index = False)\n",
    "df2015.to_csv('Santa Cruz East Galapagos 2015.csv', index = False)\n",
    "df2016.to_csv('Santa Cruz East Galapagos 2016.csv', index = False)\n",
    "df2017.to_csv('Santa Cruz East Galapagos 2017.csv', index = False)\n",
    "df2018.to_csv('Santa Cruz East Galapagos 2018.csv', index = False)"
   ]
  },
  {
   "cell_type": "code",
   "execution_count": 19,
   "metadata": {},
   "outputs": [],
   "source": [
    "df2010 = dfSantaCruzWest[dfSantaCruzWest['timestamp'].dt.year == 2010]\n",
    "df2011 = dfSantaCruzWest[dfSantaCruzWest['timestamp'].dt.year == 2011]\n",
    "df2012 = dfSantaCruzWest[dfSantaCruzWest['timestamp'].dt.year == 2012]\n",
    "df2013 = dfSantaCruzWest[dfSantaCruzWest['timestamp'].dt.year == 2013]\n",
    "df2014 = dfSantaCruzWest[dfSantaCruzWest['timestamp'].dt.year == 2014]\n",
    "df2015 = dfSantaCruzWest[dfSantaCruzWest['timestamp'].dt.year == 2015]\n",
    "df2016 = dfSantaCruzWest[dfSantaCruzWest['timestamp'].dt.year == 2016]\n",
    "df2017 = dfSantaCruzWest[dfSantaCruzWest['timestamp'].dt.year == 2017]\n",
    "df2018 = dfSantaCruzWest[dfSantaCruzWest['timestamp'].dt.year == 2018]"
   ]
  },
  {
   "cell_type": "code",
   "execution_count": 20,
   "metadata": {},
   "outputs": [],
   "source": [
    "df2010.to_csv('Santa Cruz West Galapagos 2010.csv', index = False)\n",
    "df2011.to_csv('Santa Cruz West Galapagos 2011.csv', index = False)\n",
    "df2012.to_csv('Santa Cruz West Galapagos 2012.csv', index = False)\n",
    "df2013.to_csv('Santa Cruz West Galapagos 2013.csv', index = False)\n",
    "df2014.to_csv('Santa Cruz West Galapagos 2014.csv', index = False)\n",
    "df2015.to_csv('Santa Cruz West Galapagos 2015.csv', index = False)\n",
    "df2016.to_csv('Santa Cruz West Galapagos 2016.csv', index = False)\n",
    "df2017.to_csv('Santa Cruz West Galapagos 2017.csv', index = False)\n",
    "df2018.to_csv('Santa Cruz West Galapagos 2018.csv', index = False)"
   ]
  },
  {
   "cell_type": "code",
   "execution_count": 21,
   "metadata": {},
   "outputs": [],
   "source": [
    "df2010 = dfIsabela[dfIsabela['timestamp'].dt.year == 2010]\n",
    "df2011 = dfIsabela[dfIsabela['timestamp'].dt.year == 2011]\n",
    "df2012 = dfIsabela[dfIsabela['timestamp'].dt.year == 2012]\n",
    "df2013 = dfIsabela[dfIsabela['timestamp'].dt.year == 2013]\n",
    "df2014 = dfIsabela[dfIsabela['timestamp'].dt.year == 2014]\n",
    "df2015 = dfIsabela[dfIsabela['timestamp'].dt.year == 2015]\n",
    "df2016 = dfIsabela[dfIsabela['timestamp'].dt.year == 2016]\n",
    "df2017 = dfIsabela[dfIsabela['timestamp'].dt.year == 2017]\n",
    "df2018 = dfIsabela[dfIsabela['timestamp'].dt.year == 2018]"
   ]
  },
  {
   "cell_type": "code",
   "execution_count": 22,
   "metadata": {},
   "outputs": [],
   "source": [
    "df2010.to_csv('Isabela Galapagos 2010.csv', index = False)\n",
    "df2011.to_csv('Isabela Galapagos 2011.csv', index = False)\n",
    "df2012.to_csv('Isabela Galapagos 2012.csv', index = False)\n",
    "df2013.to_csv('Isabela Galapagos 2013.csv', index = False)\n",
    "df2014.to_csv('Isabela Galapagos 2014.csv', index = False)\n",
    "df2015.to_csv('Isabela Galapagos 2015.csv', index = False)\n",
    "df2016.to_csv('Isabela Galapagos 2016.csv', index = False)\n",
    "df2017.to_csv('Isabela Galapagos 2017.csv', index = False)\n",
    "df2018.to_csv('Isabela Galapagos 2018.csv', index = False)"
   ]
  },
  {
   "cell_type": "code",
   "execution_count": 23,
   "metadata": {},
   "outputs": [],
   "source": [
    "df2010 = dfEspanola[dfEspanola['timestamp'].dt.year == 2010]\n",
    "df2011 = dfEspanola[dfEspanola['timestamp'].dt.year == 2011]\n",
    "df2012 = dfEspanola[dfEspanola['timestamp'].dt.year == 2012]\n",
    "df2013 = dfEspanola[dfEspanola['timestamp'].dt.year == 2013]\n",
    "df2014 = dfEspanola[dfEspanola['timestamp'].dt.year == 2014]\n",
    "df2015 = dfEspanola[dfEspanola['timestamp'].dt.year == 2015]\n",
    "df2016 = dfEspanola[dfEspanola['timestamp'].dt.year == 2016]\n",
    "df2017 = dfEspanola[dfEspanola['timestamp'].dt.year == 2017]\n",
    "df2018 = dfEspanola[dfEspanola['timestamp'].dt.year == 2018]"
   ]
  },
  {
   "cell_type": "code",
   "execution_count": 24,
   "metadata": {},
   "outputs": [],
   "source": [
    "df2010.to_csv('Espanola Galapagos 2010.csv', index = False)\n",
    "df2011.to_csv('Espanola Galapagos 2011.csv', index = False)\n",
    "df2012.to_csv('Espanola Galapagos 2012.csv', index = False)\n",
    "df2013.to_csv('Espanola Galapagos 2013.csv', index = False)\n",
    "df2014.to_csv('Espanola Galapagos 2014.csv', index = False)\n",
    "df2015.to_csv('Espanola Galapagos 2015.csv', index = False)\n",
    "df2016.to_csv('Espanola Galapagos 2016.csv', index = False)\n",
    "df2017.to_csv('Espanola Galapagos 2017.csv', index = False)\n",
    "df2018.to_csv('Espanola Galapagos 2018.csv', index = False)"
   ]
  },
  {
   "cell_type": "code",
   "execution_count": null,
   "metadata": {},
   "outputs": [],
   "source": []
  },
  {
   "cell_type": "code",
   "execution_count": null,
   "metadata": {},
   "outputs": [],
   "source": []
  }
 ],
 "metadata": {
  "kernelspec": {
   "display_name": "Python 3",
   "language": "python",
   "name": "python3"
  },
  "language_info": {
   "codemirror_mode": {
    "name": "ipython",
    "version": 3
   },
   "file_extension": ".py",
   "mimetype": "text/x-python",
   "name": "python",
   "nbconvert_exporter": "python",
   "pygments_lexer": "ipython3",
   "version": "3.7.1"
  }
 },
 "nbformat": 4,
 "nbformat_minor": 2
}
