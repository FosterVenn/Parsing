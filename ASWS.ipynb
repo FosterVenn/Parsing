{
 "cells": [
  {
   "cell_type": "code",
   "execution_count": 65,
   "metadata": {},
   "outputs": [],
   "source": [
    "import pandas as pd\n",
    "import numpy as np\n",
    "import datetime as dt"
   ]
  },
  {
   "cell_type": "code",
   "execution_count": 73,
   "metadata": {},
   "outputs": [],
   "source": [
    "fname = \"DataSetExport-1567260306681.csv\""
   ]
  },
  {
   "cell_type": "code",
   "execution_count": 74,
   "metadata": {},
   "outputs": [],
   "source": [
    "df = pd.read_csv(fname, header=2, low_memory=False)"
   ]
  },
  {
   "cell_type": "code",
   "execution_count": 75,
   "metadata": {},
   "outputs": [
    {
     "data": {
      "text/plain": [
       "Index(['Timestamp (UTC)', 'Value (Celsius)', 'Grade Code', 'Approval Level',\n",
       "       'Interpolation Type', 'Comment'],\n",
       "      dtype='object')"
      ]
     },
     "execution_count": 75,
     "metadata": {},
     "output_type": "execute_result"
    }
   ],
   "source": [
    "df.columns"
   ]
  },
  {
   "cell_type": "code",
   "execution_count": 76,
   "metadata": {},
   "outputs": [],
   "source": [
    "df['Timestamp (UTC)']=pd.to_datetime(df['Timestamp (UTC)'])"
   ]
  },
  {
   "cell_type": "code",
   "execution_count": 77,
   "metadata": {},
   "outputs": [],
   "source": [
    "df2014 = df[df['Timestamp (UTC)'].dt.year == 2014]\n",
    "df2015 = df[df['Timestamp (UTC)'].dt.year == 2015]\n",
    "df2016 = df[df['Timestamp (UTC)'].dt.year == 2016]\n",
    "df2017 = df[df['Timestamp (UTC)'].dt.year == 2017]\n",
    "df2018 = df[df['Timestamp (UTC)'].dt.year == 2018]"
   ]
  },
  {
   "cell_type": "code",
   "execution_count": 78,
   "metadata": {},
   "outputs": [],
   "source": [
    "fname2014 = \"2014\" + fname\n",
    "fname2015 = \"2015\" + fname\n",
    "fname2016 = \"2016\" + fname\n",
    "fname2017 = \"2017\" + fname\n",
    "fname2018 = \"2018\" + fname"
   ]
  },
  {
   "cell_type": "code",
   "execution_count": 79,
   "metadata": {},
   "outputs": [],
   "source": [
    "df2014.to_csv(fname2014, index=False)\n",
    "df2015.to_csv(fname2015, index=False)\n",
    "df2016.to_csv(fname2016, index=False)\n",
    "df2017.to_csv(fname2017, index=False)\n",
    "df2018.to_csv(fname2018, index=False)"
   ]
  },
  {
   "cell_type": "code",
   "execution_count": null,
   "metadata": {},
   "outputs": [],
   "source": []
  }
 ],
 "metadata": {
  "kernelspec": {
   "display_name": "Python 3",
   "language": "python",
   "name": "python3"
  },
  "language_info": {
   "codemirror_mode": {
    "name": "ipython",
    "version": 3
   },
   "file_extension": ".py",
   "mimetype": "text/x-python",
   "name": "python",
   "nbconvert_exporter": "python",
   "pygments_lexer": "ipython3",
   "version": "3.7.3"
  }
 },
 "nbformat": 4,
 "nbformat_minor": 2
}
