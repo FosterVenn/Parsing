{
 "cells": [
  {
   "cell_type": "code",
   "execution_count": 63,
   "metadata": {},
   "outputs": [],
   "source": [
    "import pandas as pd\n",
    "import csv\n",
    "from dbfread import DBF"
   ]
  },
  {
   "cell_type": "code",
   "execution_count": 64,
   "metadata": {},
   "outputs": [],
   "source": [
    "def dbf_to_csv(dbf_table_pth):#Input a dbf, output a csv, same name, same path, except extension\n",
    "    csv_fn = dbf_table_pth[:-4]+ \".csv\" #Set the csv file name\n",
    "    table = DBF(dbf_table_pth)# table variable is a DBF object\n",
    "    with open(csv_fn, 'w', newline = '') as f:# create a csv file, fill it with dbf content\n",
    "        writer = csv.writer(f)\n",
    "        writer.writerow(table.field_names)# write the column name\n",
    "        for record in table:# write the rows\n",
    "            writer.writerow(list(record.values()))\n",
    "    return csv_fn# return the csv name"
   ]
  },
  {
   "cell_type": "code",
   "execution_count": 65,
   "metadata": {},
   "outputs": [
    {
     "data": {
      "text/plain": [
       "'California2011.csv'"
      ]
     },
     "execution_count": 65,
     "metadata": {},
     "output_type": "execute_result"
    }
   ],
   "source": [
    "dbf_to_csv('California2011.dbf')"
   ]
  },
  {
   "cell_type": "code",
   "execution_count": 66,
   "metadata": {},
   "outputs": [],
   "source": [
    "df = pd.read_csv('California2011.csv', low_memory=False)"
   ]
  },
  {
   "cell_type": "code",
   "execution_count": 67,
   "metadata": {},
   "outputs": [
    {
     "data": {
      "text/plain": [
       "Index(['OBJECTID', 'Year_Recor', 'State_Code', 'Route_ID', 'Begin_Poin',\n",
       "       'End_Point', 'AADT', 'COUNTY_COD', 'F_SYSTEM', 'FACILITY_T',\n",
       "       'HOV_LANES', 'HOV_TYPE', 'IRI', 'IRI_DATE', 'NHS', 'OWNERSHIP',\n",
       "       'ROUTE_NUMB', 'ROUTE_NU_1', 'ROUTE_QUAL', 'ROUTE_SIGN', 'STRAHNET_T',\n",
       "       'THROUGH_LA', 'TOLL_CHARG', 'TOLL_ID', 'TOLL_TYPE', 'TRUCK',\n",
       "       'URBAN_CODE', 'National_L', 'Shape_Leng'],\n",
       "      dtype='object')"
      ]
     },
     "execution_count": 67,
     "metadata": {},
     "output_type": "execute_result"
    }
   ],
   "source": [
    "df.columns"
   ]
  },
  {
   "cell_type": "code",
   "execution_count": 68,
   "metadata": {},
   "outputs": [],
   "source": [
    "dfAntioch = df[df['URBAN_CODE']=='02683']\n",
    "dfArroyoGrande = df[df['URBAN_CODE']=='03196']\n",
    "dfBakersfield = df[df['URBAN_CODE']=='04681']\n",
    "dfCamarillo = df[df['URBAN_CODE']==12754]\n",
    "dfChico = df[df['URBAN_CODE']==16318]\n",
    "dfConcord = df[df['URBAN_CODE']==19504]\n",
    "dfDavis = df[df['URBAN_CODE']==22987]\n",
    "dfElCentro = df[df['URBAN_CODE']==26416]\n",
    "dfElPaso = df[df['URBAN_CODE']==27261]\n",
    "dfFairfield = df[df['URBAN_CODE']==28657]\n",
    "dfFresno = df[df['URBAN_CODE']==31843]\n",
    "dfGilroy = df[df['URBAN_CODE']==33328]\n",
    "dfHanford = df[df['URBAN_CODE']==36703]\n",
    "dfHemet = df[df['URBAN_CODE']==38215]\n",
    "dfIndio = df[df['URBAN_CODE']==41347]\n",
    "dfLancaster = df[df['URBAN_CODE']==47611]\n",
    "dfLivermore = df[df['URBAN_CODE']==50527]\n",
    "dfLodi = df[df['URBAN_CODE']==50851]\n",
    "dfLompoc = df[df['URBAN_CODE']==51040]\n",
    "dfMadera = df[df['URBAN_CODE']==52984]\n",
    "dfManteca = df[df['URBAN_CODE']==54145]\n",
    "dfMerced = df[df['URBAN_CODE']==56251]\n",
    "dfMissionViejo = df[df['URBAN_CODE']==57709]\n",
    "dfModesto = df[df['URBAN_CODE']==58006]\n",
    "dfMurrieta = df[df['URBAN_CODE']==60799]\n",
    "dfNapa = df[df['URBAN_CODE']==61057]\n",
    "dfOxnard = df[df['URBAN_CODE']==66673]\n",
    "dfPetaluma = df[df['URBAN_CODE']==68887]\n",
    "dfPorterville = df[df['URBAN_CODE']==71074]\n",
    "dfRedding = df[df['URBAN_CODE']==73774]\n",
    "dfRiverside = df[df['URBAN_CODE']==75340]\n",
    "dfSacramento = df[df['URBAN_CODE']==77068]\n",
    "dfSalinas = df[df['URBAN_CODE']==78310]\n",
    "dfSanDiego = df[df['URBAN_CODE']==78661]\n",
    "dfSanJose = df[df['URBAN_CODE']==79039]\n",
    "dfSanLuisObispo = df[df['URBAN_CODE']==79147]\n",
    "dfSantaBarbara = df[df['URBAN_CODE']==79282]\n",
    "dfSantaClarita = df[df['URBAN_CODE']==79309]\n",
    "dfSantaCruz = df[df['URBAN_CODE']==79336]\n",
    "dfSantaMaria = df[df['URBAN_CODE']==79417]\n",
    "dfSantaRosa = df[df['URBAN_CODE']==79498]\n",
    "dfSeaside = df[df['URBAN_CODE']==80362]\n",
    "dfSimiValley = df[df['URBAN_CODE']==82144]\n",
    "dfStockton = df[df['URBAN_CODE']==85087]\n",
    "dfThousandOaks = df[df['URBAN_CODE']==87490]\n",
    "dfTracy = df[df['URBAN_CODE']==88273]\n",
    "dfTurlock = df[df['URBAN_CODE']==89083]\n",
    "dfVacaville = df[df['URBAN_CODE']==89866]\n",
    "dfVallejo = df[df['URBAN_CODE']==90028]\n",
    "dfVictorville = df[df['URBAN_CODE']==90541]\n",
    "dfVisalia = df[df['URBAN_CODE']==90946]\n",
    "dfWatsonville = df[df['URBAN_CODE']==92890]\n",
    "dfWoodland = df[df['URBAN_CODE']==96994]\n",
    "dfYuba = df[df['URBAN_CODE']==97939]\n"
   ]
  },
  {
   "cell_type": "code",
   "execution_count": 69,
   "metadata": {},
   "outputs": [],
   "source": [
    "dfAntioch.to_csv('AntiochCalifornia2011.csv', index=False)\n",
    "dfArroyoGrande.to_csv('ArroyGrandeCalifornia2011.csv', index=False)\n",
    "dfBakersfield.to_csv('BakersfieldCalifornia2011.csv', index=False)\n",
    "dfCamarillo.to_csv('CamarilloCalifornia2011.csv', index=False)\n",
    "dfChico.to_csv('ChicoCalifornia2011.csv', index=False)\n",
    "dfConcord.to_csv('ConcordCalifornia2011.csv', index=False)\n",
    "dfDavis.to_csv('DavisCalifornia2011.csv', index=False)\n",
    "dfElCentro.to_csv('ElCentroCalifornia2011.csv', index=False)\n",
    "dfElPaso.to_csv('ElPasoCalifornia2011.csv', index=False)\n",
    "dfFairfield.to_csv('FairfieldCalifornia2011.csv', index=False)\n",
    "dfFresno.to_csv('FresnoCalifornia2011.csv', index=False)\n",
    "dfGilroy.to_csv('GilroyCalifornia2011.csv', index=False)\n",
    "dfHanford.to_csv('HanfordCalifornia2011.csv', index=False)\n",
    "dfHemet.to_csv('HemetCalifornia2011.csv', index=False)\n",
    "dfIndio.to_csv('IndioCalifornia2011.csv', index=False)\n",
    "dfLancaster.to_csv('LancasterCalifornia2011.csv', index=False)\n",
    "dfLivermore.to_csv('LivermoreCalifornia2011.csv', index=False)\n",
    "dfLodi.to_csv('LodiCalifornia2011.csv', index=False)\n",
    "dfLompoc.to_csv('LompocCalifornia2011.csv', index=False)\n",
    "dfMadera.to_csv('MaderaCalifornia2011.csv', index=False)\n",
    "dfManteca.to_csv('MantecaCalifornia2011.csv', index=False)\n",
    "dfMerced.to_csv('MercedCalifornia2011.csv', index=False)\n",
    "dfMissionViejo.to_csv('MissionViegoCalifornia2011.csv', index=False)\n",
    "dfModesto.to_csv('ModestoCalifornia2011.csv', index=False)\n",
    "dfMurrieta.to_csv('MurrietaCalifornia2011.csv', index=False)\n",
    "dfNapa.to_csv('NapaCalifornia2011.csv', index=False)\n",
    "dfOxnard.to_csv('OxnardCalifornia2011.csv', index=False)\n",
    "dfPetaluma.to_csv('PetalumaCalifornia2011.csv', index=False)\n",
    "dfPorterville.to_csv('PortervilleCalifornia2011.csv', index=False)\n",
    "dfRedding.to_csv('ReddingCalifornia2011.csv', index=False)\n",
    "dfRiverside.to_csv('RiversideCalifornia2011.csv', index=False)\n",
    "dfSacramento.to_csv('SacramentoCalifornia2011.csv', index=False)\n",
    "dfSalinas.to_csv('SalinaCalifornia2011.csv', index=False)\n",
    "dfSanDiego.to_csv('SanDiegoCalifornia2011.csv', index=False)\n",
    "dfSanJose.to_csv('SanJoseCalifornia2011.csv', index=False)\n",
    "dfSanLuisObispo.to_csv('SanLuisObispoCalifornia2011.csv', index=False)\n",
    "dfSantaBarbara.to_csv('SantaBarbaraCalifornia2011.csv', index=False)\n",
    "dfSantaClarita.to_csv('SantaClaritaCalifornia2011.csv', index=False)\n",
    "dfSantaCruz.to_csv('SantaCruzCalifornia2011.csv', index=False)\n",
    "dfSantaMaria.to_csv('SantaMariaCalifornia2011.csv', index=False)\n",
    "dfSantaRosa.to_csv('SantaRosaCalifornia2011.csv', index=False)\n",
    "dfSeaside.to_csv('SeasideCalifornia2011.csv', index=False)\n",
    "dfSimiValley.to_csv('SimiValleyCalifornia2011.csv', index=False)\n",
    "dfStockton.to_csv('StocktonCalifornia.csv2011', index=False)\n",
    "dfThousandOaks.to_csv('ThousandOaksCalifornia2011.csv', index=False)\n",
    "dfTracy.to_csv('TracyCalifornia2011.csv', index=False)\n",
    "dfTurlock.to_csv('TurlockCalifornia2011.csv', index=False)\n",
    "dfVacaville.to_csv('VacavilleCalifornia2011.csv', index=False)\n",
    "dfVallejo.to_csv('VallejoCalifornia2011.csv', index=False)\n",
    "dfVictorville.to_csv('VictorvilleCalifornia2011.csv', index=False)\n",
    "dfVisalia.to_csv('VisaliaCalifornia2011.csv', index=False)\n",
    "dfWatsonville.to_csv('WatsonvilleCalifornia2011.csv', index=False)\n",
    "dfWoodland.to_csv('WoodlandCalifornia2011.csv', index=False)\n",
    "dfYuba.to_csv('YubaCalifornia2011.csv', index=False)\n"
   ]
  },
  {
   "cell_type": "code",
   "execution_count": null,
   "metadata": {},
   "outputs": [],
   "source": []
  },
  {
   "cell_type": "code",
   "execution_count": null,
   "metadata": {},
   "outputs": [],
   "source": []
  }
 ],
 "metadata": {
  "kernelspec": {
   "display_name": "Python 3",
   "language": "python",
   "name": "python3"
  },
  "language_info": {
   "codemirror_mode": {
    "name": "ipython",
    "version": 3
   },
   "file_extension": ".py",
   "mimetype": "text/x-python",
   "name": "python",
   "nbconvert_exporter": "python",
   "pygments_lexer": "ipython3",
   "version": "3.7.3"
  }
 },
 "nbformat": 4,
 "nbformat_minor": 2
}
